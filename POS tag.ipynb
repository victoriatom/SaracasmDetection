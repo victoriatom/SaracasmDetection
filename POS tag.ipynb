{
 "cells": [
  {
   "cell_type": "code",
   "execution_count": 1,
   "metadata": {
    "collapsed": true
   },
   "outputs": [],
   "source": [
    "import nltk\n",
    "import matplotlib\n",
    "import re\n",
    "import numpy\n",
    "import pandas as pd"
   ]
  },
  {
   "cell_type": "code",
   "execution_count": 2,
   "metadata": {
    "collapsed": false
   },
   "outputs": [
    {
     "ename": "FileNotFoundError",
     "evalue": "[Errno 2] No such file or directory: 'sarcastictweets.txt'",
     "output_type": "error",
     "traceback": [
      "\u001b[0;31m---------------------------------------------------------------------------\u001b[0m",
      "\u001b[0;31mFileNotFoundError\u001b[0m                         Traceback (most recent call last)",
      "\u001b[0;32m<ipython-input-2-8b7731425489>\u001b[0m in \u001b[0;36m<module>\u001b[0;34m()\u001b[0m\n\u001b[1;32m      5\u001b[0m \u001b[0;34m\u001b[0m\u001b[0m\n\u001b[1;32m      6\u001b[0m \u001b[0;31m# Open file of tweets, appending each line to List\u001b[0m\u001b[0;34m\u001b[0m\u001b[0;34m\u001b[0m\u001b[0m\n\u001b[0;32m----> 7\u001b[0;31m \u001b[0;32mwith\u001b[0m \u001b[0mopen\u001b[0m\u001b[0;34m(\u001b[0m\u001b[0;34m\"sarcastictweets.txt\"\u001b[0m\u001b[0;34m)\u001b[0m \u001b[0;32mas\u001b[0m \u001b[0mf\u001b[0m\u001b[0;34m:\u001b[0m\u001b[0;34m\u001b[0m\u001b[0m\n\u001b[0m\u001b[1;32m      8\u001b[0m     \u001b[0;32mfor\u001b[0m \u001b[0mline\u001b[0m \u001b[0;32min\u001b[0m \u001b[0mf\u001b[0m\u001b[0;34m:\u001b[0m\u001b[0;34m\u001b[0m\u001b[0m\n\u001b[1;32m      9\u001b[0m         \u001b[0mlist\u001b[0m\u001b[0;34m.\u001b[0m\u001b[0mappend\u001b[0m\u001b[0;34m(\u001b[0m\u001b[0mline\u001b[0m\u001b[0;34m)\u001b[0m\u001b[0;34m\u001b[0m\u001b[0m\n",
      "\u001b[0;31mFileNotFoundError\u001b[0m: [Errno 2] No such file or directory: 'sarcastictweets.txt'"
     ]
    }
   ],
   "source": [
    "# Read in entire file of tweets\n",
    "\n",
    "# Create List to keep adding lines to\n",
    "list = []\n",
    "\n",
    "# Open file of tweets, appending each line to List\n",
    "with open(\"sarcastictweets.txt\") as f:\n",
    "    for line in f:\n",
    "        list.append(line)"
   ]
  },
  {
   "cell_type": "code",
   "execution_count": null,
   "metadata": {
    "collapsed": false
   },
   "outputs": [],
   "source": [
    "# Tokenize and assign POS tags to each word one tweet at a time\n",
    "\n",
    "tagged_list = []\n",
    "\n",
    "for i in list:\n",
    "    tweet = nltk.word_tokenize(i)\n",
    "    tweet = nltk.pos_tag(tweet)\n",
    "    tagged_list.append(tweet)\n",
    "tagged_list"
   ]
  },
  {
   "cell_type": "code",
   "execution_count": null,
   "metadata": {
    "collapsed": false
   },
   "outputs": [],
   "source": [
    "# Iterate through all tweets, extracting only the POS tags\n",
    "\n",
    "list2 = []\n",
    "\n",
    "iter = 0\n",
    "for i in tagged_list:\n",
    "    length = len(i)\n",
    "    for j in range(0,length):\n",
    "        list2.append(tagged_list[iter][j][1])\n",
    "    iter+=1\n",
    "    list2.append(\"\\n\") # Note: this adds two newline characters for some reason\n",
    "list2"
   ]
  },
  {
   "cell_type": "code",
   "execution_count": null,
   "metadata": {
    "collapsed": false
   },
   "outputs": [],
   "source": [
    "# Organize the POS tags into individual tweets\n",
    "\n",
    "list3 = []\n",
    "list4 = []\n",
    "for i in list2:\n",
    "    if (i is not '\\n'):\n",
    "        if(i.startswith(\"V\")):  # Replace all verb instances (e.g., VBD) with just V\n",
    "            i = \"V\"\n",
    "        if(i.startswith(\"N\")): # Replace all noun instances (e.g., NNS) with N\n",
    "            i = \"N\"\n",
    "        if(i.startswith(\"PRP\")): # Repalce all pronoun instances (e.g., PRP$) with PRP\n",
    "            i = \"PRP\"\n",
    "        if(i.startswith(\"JJ\")):\n",
    "            i = \"JJ\"\n",
    "        list3.append(i)\n",
    "    else:\n",
    "        list4.append(list3)\n",
    "        list3 = []\n",
    "list4"
   ]
  },
  {
   "cell_type": "code",
   "execution_count": null,
   "metadata": {
    "collapsed": false
   },
   "outputs": [],
   "source": [
    "print(list4[8])"
   ]
  },
  {
   "cell_type": "code",
   "execution_count": null,
   "metadata": {
    "collapsed": false
   },
   "outputs": [],
   "source": [
    "i =0 \n",
    "\n",
    "# list5 is the list containing all tweets with possible bigrams\n",
    "list5 = []\n",
    "\n",
    "for j in list4:\n",
    "    for x in range(len(list4[i]) -1):\n",
    "        if( list4[i][x]==\"V\" and list4[i][x+1]==\"V\" or \n",
    "            list4[i][x]==\"V\" and list4[i][x+1]==\"ADV\" or\n",
    "            list4[i][x]==\"ADV\" and list4[i][x+1]==\"V\" or \n",
    "            list4[i][x]==\"TO\" and list4[i][x+1]==\"V\" or\n",
    "            list4[i][x]==\"V\" and list4[i][x+1]==\"N\" or\n",
    "            list4[i][x]==\"V\" and list4[i][x+1]==\"PRP\" or\n",
    "            list4[i][x]==\"V\" and list4[i][x+1]==\"JJ\"): \n",
    "                list5.append(list[i])\n",
    "                break\n",
    "    i+=1\n",
    "print(list5)"
   ]
  },
  {
   "cell_type": "code",
   "execution_count": null,
   "metadata": {
    "collapsed": false
   },
   "outputs": [],
   "source": [
    "list6 = []\n",
    "list7 = []\n",
    "for i in list5:\n",
    "    if (i is not '\\n'):\n",
    "        list6.append(i)\n",
    "    else:\n",
    "        list7.append(list6)\n",
    "        list6 = []\n",
    "sarcasticTweets = list6\n",
    "sarcasticTweets[29]"
   ]
  },
  {
   "cell_type": "code",
   "execution_count": null,
   "metadata": {
    "collapsed": false
   },
   "outputs": [],
   "source": [
    "df = pd.DataFrame(sarcasticTweets)\n",
    "df.to_csv(\"sarcasticTweets.csv\")"
   ]
  },
  {
   "cell_type": "code",
   "execution_count": null,
   "metadata": {
    "collapsed": true
   },
   "outputs": [],
   "source": []
  },
  {
   "cell_type": "code",
   "execution_count": null,
   "metadata": {
    "collapsed": true
   },
   "outputs": [],
   "source": []
  },
  {
   "cell_type": "code",
   "execution_count": null,
   "metadata": {
    "collapsed": true
   },
   "outputs": [],
   "source": []
  },
  {
   "cell_type": "code",
   "execution_count": null,
   "metadata": {
    "collapsed": true
   },
   "outputs": [],
   "source": []
  }
 ],
 "metadata": {
  "kernelspec": {
   "display_name": "Python 3",
   "language": "python",
   "name": "python3"
  },
  "language_info": {
   "codemirror_mode": {
    "name": "ipython",
    "version": 3
   },
   "file_extension": ".py",
   "mimetype": "text/x-python",
   "name": "python",
   "nbconvert_exporter": "python",
   "pygments_lexer": "ipython3",
   "version": "3.6.0"
  }
 },
 "nbformat": 4,
 "nbformat_minor": 2
}
